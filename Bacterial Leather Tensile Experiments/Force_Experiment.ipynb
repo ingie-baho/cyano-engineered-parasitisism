{
 "cells": [
  {
   "cell_type": "code",
   "execution_count": null,
   "id": "ec77f66f",
   "metadata": {},
   "outputs": [],
   "source": [
    "#!/usr/bin/env python\n",
    "# -*- coding: utf-8 -*-\n",
    "\n",
    "HOST = \"localhost\"\n",
    "PORT = 4223\n",
    "SS1_UID = \"6wVow5\"\n",
    "# SS2_UID = \"6CQ4nA\"\n",
    "LC1_UID = 'KiG'\n",
    "# LC2_UID = 'Kgx'\n",
    "import time\n",
    "\n",
    "from tinkerforge.ip_connection import IPConnection\n",
    "from tinkerforge.brick_silent_stepper import BrickSilentStepper\n",
    "from tinkerforge.bricklet_load_cell_v2 import BrickletLoadCellV2\n",
    "import numpy as np\n",
    "from tqdm import tqdm\n",
    "import pandas as pd\n",
    "import time\n",
    "\n",
    "SAVE_FILENAME = \"PLACEHOLDER.csv\"\n",
    "\n",
    "\n",
    "ipcon = IPConnection() # Create IP connection\n",
    "ss1 = BrickSilentStepper(SS1_UID, ipcon) # Create device object\n",
    "# ss2 = BrickSilentStepper(SS2_UID, ipcon) # Create device object\n",
    "lc1 = BrickletLoadCellV2(LC1_UID, ipcon) # Create device object\n",
    "# lc2 = BrickletLoadCellV2(LC2_UID, ipcon) # Create device object\n",
    "ipcon.connect(HOST, PORT) # Connect to brickd"
   ]
  },
  {
   "cell_type": "code",
   "execution_count": null,
   "id": "1d8ed7d3",
   "metadata": {},
   "outputs": [],
   "source": [
    "PITCH = 5  # millimeters / turn\n",
    "GEAR_RATIO = 1  # Assuming no gear ratio? https://www.omc-stepperonline.com/download/11HS12-0956D.pdf\n",
    "MICRO_STEPS_PER_REV, RESOLUTION_SETTING = (\n",
    "    256,\n",
    "    ss1.STEP_RESOLUTION_256,\n",
    ")  # 256 micro-steps per macro-step\n",
    "MACRO_STEPS_PER_REV = 200  # 200 macro-steps per revolution (1.8 degree step angle)\n",
    "STEPS_PER_REV = GEAR_RATIO * MACRO_STEPS_PER_REV * MICRO_STEPS_PER_REV\n",
    "FINAL_DISTANCE = 5  # mm\n",
    "MEASURE_FREQ = 0.1  # mm per measurement\n",
    "\n",
    "\n",
    "MAX_VELOCITY = 0.1  # mm / s\n",
    "MAX_STEPS_PER_SECOND = (\n",
    "    MAX_VELOCITY * STEPS_PER_REV\n",
    ") / PITCH  # Velocity: steps / sec\n",
    "FINAL_STEPS = (FINAL_DISTANCE * STEPS_PER_REV) / PITCH\n",
    "MEASURE_FREQ_IN_STEPS = (STEPS_PER_REV * MEASURE_FREQ) / PITCH\n",
    "\n"
   ]
  },
  {
   "cell_type": "code",
   "execution_count": null,
   "id": "10b316af",
   "metadata": {},
   "outputs": [],
   "source": [
    "df = pd.DataFrame(columns = ['Time', 'Force (Newtons)', 'Distance (millimeters)'])\n",
    "\n",
    "ss1.enable() \n",
    "ss1.set_current_position(0) # Initialize to 0\n",
    "ss1.set_motor_current(800) # 800 mA\n",
    "ss1.set_step_configuration(RESOLUTION_SETTING, True) # 1 / RESOLUTION_SETTING steps (interpolated)\n",
    "ss1.set_max_velocity(MAX_STEPS_PER_SECOND) # Velocity: steps/s\n",
    "ss1.set_speed_ramping(500, 5000) # Fast deacceleration (5000 steps/s^2) for stopping\n",
    "\n",
    "# Initialize Tar & Set Stepper position to 0\n",
    "lc1_tar = np.mean([lc1.get_weight() for i in range(1000)])\n",
    "# lc2_tar = np.mean([lc2.get_weight() for i in range(1000)])\n",
    "\n",
    "print(lc1_tar)"
   ]
  },
  {
   "cell_type": "code",
   "execution_count": null,
   "id": "079710a7",
   "metadata": {},
   "outputs": [],
   "source": [
    "# LETS RUN IT! NOTE: slapping on the negative sign sets the stepper to stretch\n",
    "ss1.set_steps(-FINAL_STEPS)\n"
   ]
  },
  {
   "cell_type": "code",
   "execution_count": null,
   "id": "12904439",
   "metadata": {},
   "outputs": [],
   "source": [
    "from IPython.display import clear_output\n",
    "\n",
    "STARTING_TIME = time.time_ns() // 1_000_000\n",
    "total_steps, total_distance, total_time, total_newtons, idx = 0, 0, 0, 0, 0\n",
    "\n",
    "while total_distance < FINAL_DISTANCE:\n",
    "    total_steps = -ss1.get_current_position()\n",
    "    total_time = (time.time_ns() // 1_000_000) - STARTING_TIME\n",
    "    total_distance = total_steps / STEPS_PER_REV * PITCH\n",
    "    lc1_weight = lc1_tar - lc1.get_weight()  # gramspp\n",
    "    # lc2_weight = (lc2.get_weight()) - lc2_tar\n",
    "    # NOTE: Yitong calibrated the load cells to 10,000x\n",
    "    # sensitivity.... (with a 50gram weight said it was 500000 grams)\n",
    "    # total_weight = (lc1_weight + lc2_weight) / 10000\n",
    "    total_weight = (lc1_weight ) / 10000\n",
    "\n",
    "    total_newtons = -total_weight / 1000 * 9.80665  # m/s^2\n",
    "    clear_output(wait=True)  # Clear the previous output\n",
    "\n",
    "    display(\n",
    "        f\"time {total_time:.0f}, lc1_weight {lc1_weight:.1f}, Total Time {total_time:.1f}, Total Weight {total_weight:.5f}, Total Newtons {total_newtons:.5f}\"\n",
    "    )\n",
    "\n",
    "    # display(f'{idx} Total Distance {total_distance:.5f}, Total Force {total_newtons:.5f}, Total Time {total_time:.5f}')\n",
    "\n",
    "    # Create a new row as a DataFrame\n",
    "    new_row = pd.DataFrame(\n",
    "        {\n",
    "            \"Time\": [total_time],\n",
    "            \"Distance (millimeters)\": [total_distance],\n",
    "            \"Force (Newtons)\": [total_newtons],\n",
    "        }\n",
    "    )\n",
    "\n",
    "    # Use pd.concat to add the new row to the existing DataFrame\n",
    "    df = pd.concat([df, new_row], ignore_index=True)\n",
    "\n",
    "    # time.sleep(0.01)\n",
    "    # clear_output(wait=True)\n",
    "    df.to_csv(SAVE_FILENAME)"
   ]
  },
  {
   "cell_type": "code",
   "execution_count": null,
   "id": "4110fc30",
   "metadata": {},
   "outputs": [],
   "source": [
    "time.sleep(2) # Wait for motor to actually stop\n",
    "ss1.disable()\n",
    "ipcon.disconnect()"
   ]
  }
 ],
 "metadata": {
  "kernelspec": {
   "display_name": "ethical_necromancy",
   "language": "python",
   "name": "python3"
  },
  "language_info": {
   "codemirror_mode": {
    "name": "ipython",
    "version": 3
   },
   "file_extension": ".py",
   "mimetype": "text/x-python",
   "name": "python",
   "nbconvert_exporter": "python",
   "pygments_lexer": "ipython3",
   "version": "3.11.8"
  }
 },
 "nbformat": 4,
 "nbformat_minor": 5
}
